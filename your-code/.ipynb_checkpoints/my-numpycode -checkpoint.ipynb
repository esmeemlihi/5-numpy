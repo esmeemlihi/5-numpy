{
 "cells": [
  {
   "cell_type": "code",
   "execution_count": 13,
   "metadata": {},
   "outputs": [],
   "source": [
    "#1. Import the NUMPY package under the name np.\n",
    "import numpy as np"
   ]
  },
  {
   "cell_type": "code",
   "execution_count": 14,
   "metadata": {},
   "outputs": [
    {
     "data": {
      "text/plain": [
       "'1.14.0'"
      ]
     },
     "execution_count": 14,
     "metadata": {},
     "output_type": "execute_result"
    }
   ],
   "source": [
    "#2. Print the NUMPY version and the configuration.\n",
    "np.version.version\n"
   ]
  },
  {
   "cell_type": "code",
   "execution_count": 15,
   "metadata": {},
   "outputs": [],
   "source": [
    "#3. Generate a 2x3x5 3-dimensional array with random values. Assign the array to variable \"a\"\n",
    "# Challenge: there are at least three easy ways that use numpy to generate random arrays. How many ways can you find?\n",
    "\n",
    "'''\n",
    "L.S. Good!\n",
    "'''\n",
    "\n",
    "a = np.random.random((2,5,3))\n",
    "\n"
   ]
  },
  {
   "cell_type": "code",
   "execution_count": 16,
   "metadata": {},
   "outputs": [
    {
     "name": "stdout",
     "output_type": "stream",
     "text": [
      "[[[0.36004569 0.7538033  0.78903145]\n",
      "  [0.23267561 0.7923389  0.45954295]\n",
      "  [0.77547012 0.09757248 0.17574062]\n",
      "  [0.91666415 0.86876526 0.95691166]\n",
      "  [0.28843998 0.73548612 0.12360941]]\n",
      "\n",
      " [[0.97974374 0.75398867 0.57243648]\n",
      "  [0.6544671  0.17052512 0.71006432]\n",
      "  [0.93316318 0.4329859  0.32332434]\n",
      "  [0.13531924 0.98972451 0.85136072]\n",
      "  [0.0650301  0.8453408  0.30393365]]]\n"
     ]
    }
   ],
   "source": [
    "#4. Print a.\n",
    "print(a)"
   ]
  },
  {
   "cell_type": "code",
   "execution_count": 17,
   "metadata": {},
   "outputs": [
    {
     "name": "stdout",
     "output_type": "stream",
     "text": [
      "[[[1. 1. 1.]\n",
      "  [1. 1. 1.]]\n",
      "\n",
      " [[1. 1. 1.]\n",
      "  [1. 1. 1.]]\n",
      "\n",
      " [[1. 1. 1.]\n",
      "  [1. 1. 1.]]\n",
      "\n",
      " [[1. 1. 1.]\n",
      "  [1. 1. 1.]]\n",
      "\n",
      " [[1. 1. 1.]\n",
      "  [1. 1. 1.]]]\n"
     ]
    }
   ],
   "source": [
    "#5. Create a 5x2x3 3-dimensional array with all values equaling 1.\n",
    "#Assign the array to variable \"b\"\n",
    "\n",
    "'''\n",
    "L.S. Correct!\n",
    "'''\n",
    "\n",
    "b = np.ones((5,2,3))\n",
    "\n",
    "#6. Print b.\n",
    "print (b)\n"
   ]
  },
  {
   "cell_type": "code",
   "execution_count": 18,
   "metadata": {},
   "outputs": [
    {
     "ename": "ValueError",
     "evalue": "operands could not be broadcast together with shapes (2,5,3) (5,2,3) ",
     "output_type": "error",
     "traceback": [
      "\u001b[0;31m---------------------------------------------------------------------------\u001b[0m",
      "\u001b[0;31mValueError\u001b[0m                                Traceback (most recent call last)",
      "\u001b[0;32m<ipython-input-18-c45a78fe019c>\u001b[0m in \u001b[0;36m<module>\u001b[0;34m()\u001b[0m\n\u001b[1;32m      7\u001b[0m \u001b[0mlen\u001b[0m\u001b[0;34m(\u001b[0m\u001b[0mb\u001b[0m\u001b[0;34m)\u001b[0m \u001b[0;34m==\u001b[0m \u001b[0mlen\u001b[0m \u001b[0;34m(\u001b[0m\u001b[0ma\u001b[0m\u001b[0;34m)\u001b[0m\u001b[0;34m\u001b[0m\u001b[0m\n\u001b[1;32m      8\u001b[0m \u001b[0;31m#this indicates false and shows tahs both matrixxes do not have the same len or structure at least\u001b[0m\u001b[0;34m\u001b[0m\u001b[0;34m\u001b[0m\u001b[0m\n\u001b[0;32m----> 9\u001b[0;31m \u001b[0md\u001b[0m \u001b[0;34m=\u001b[0m \u001b[0ma\u001b[0m\u001b[0;34m+\u001b[0m\u001b[0mb\u001b[0m \u001b[0;31m# if this is not possible is enforces the assumption above\u001b[0m\u001b[0;34m\u001b[0m\u001b[0m\n\u001b[0m\u001b[1;32m     10\u001b[0m \u001b[0;31m#print(np.len(a)), this atribute doe snot excist\u001b[0m\u001b[0;34m\u001b[0m\u001b[0;34m\u001b[0m\u001b[0m\n",
      "\u001b[0;31mValueError\u001b[0m: operands could not be broadcast together with shapes (2,5,3) (5,2,3) "
     ]
    }
   ],
   "source": [
    "#7. Do a and b have the same size? How do you prove that in Python code?\n",
    "\n",
    "'''\n",
    "L.S. Yes, correct. \n",
    "'''\n",
    "\n",
    "len(b) == len (a)\n",
    "#this indicates false and shows tahs both matrixxes do not have the same len or structure at least \n",
    "d = a+b # if this is not possible is enforces the assumption above \n",
    "#print(np.len(a)), this atribute doe snot excist \n"
   ]
  },
  {
   "cell_type": "code",
   "execution_count": 19,
   "metadata": {},
   "outputs": [
    {
     "ename": "ValueError",
     "evalue": "operands could not be broadcast together with shapes (2,5,3) (5,2,3) ",
     "output_type": "error",
     "traceback": [
      "\u001b[0;31m---------------------------------------------------------------------------\u001b[0m",
      "\u001b[0;31mValueError\u001b[0m                                Traceback (most recent call last)",
      "\u001b[0;32m<ipython-input-19-398a332a15af>\u001b[0m in \u001b[0;36m<module>\u001b[0;34m()\u001b[0m\n\u001b[1;32m      1\u001b[0m \u001b[0;31m#8. Are you able to add a and b? Why or why not?\u001b[0m\u001b[0;34m\u001b[0m\u001b[0;34m\u001b[0m\u001b[0m\n\u001b[0;32m----> 2\u001b[0;31m \u001b[0md\u001b[0m \u001b[0;34m=\u001b[0m \u001b[0ma\u001b[0m\u001b[0;34m+\u001b[0m\u001b[0mb\u001b[0m\u001b[0;34m\u001b[0m\u001b[0m\n\u001b[0m\u001b[1;32m      3\u001b[0m \u001b[0mprint\u001b[0m \u001b[0;34m(\u001b[0m\u001b[0mc\u001b[0m\u001b[0;34m)\u001b[0m\u001b[0;34m\u001b[0m\u001b[0m\n\u001b[1;32m      4\u001b[0m \u001b[0;34m\u001b[0m\u001b[0m\n\u001b[1;32m      5\u001b[0m '''\n",
      "\u001b[0;31mValueError\u001b[0m: operands could not be broadcast together with shapes (2,5,3) (5,2,3) "
     ]
    }
   ],
   "source": [
    "#8. Are you able to add a and b? Why or why not?\n",
    "d = a+b\n",
    "print (c)\n",
    "\n",
    "'''\n",
    "L.S. Correct. \n",
    "'''\n",
    "\n",
    "# it is possible as long the matrixes have the same size, this is not the case"
   ]
  },
  {
   "cell_type": "code",
   "execution_count": 20,
   "metadata": {},
   "outputs": [
    {
     "name": "stdout",
     "output_type": "stream",
     "text": [
      "[[[1. 1. 1.]\n",
      "  [1. 1. 1.]\n",
      "  [1. 1. 1.]\n",
      "  [1. 1. 1.]\n",
      "  [1. 1. 1.]]\n",
      "\n",
      " [[1. 1. 1.]\n",
      "  [1. 1. 1.]\n",
      "  [1. 1. 1.]\n",
      "  [1. 1. 1.]\n",
      "  [1. 1. 1.]]]\n"
     ]
    }
   ],
   "source": [
    "#9. Transpose b so that it has the same structure of a (i.e. become a 2x3x5 array). Assign the transposed array to varialbe \"c\".\n",
    "\n",
    "\n",
    "c = np.transpose(b.reshape(3,5,2))\n",
    "\n",
    "'''\n",
    "L.S. Space in statement not necessary. \n",
    "'''\n",
    "\n",
    "print (c)\n",
    "\n",
    "\n"
   ]
  },
  {
   "cell_type": "code",
   "execution_count": 21,
   "metadata": {},
   "outputs": [
    {
     "ename": "NameError",
     "evalue": "name 'g' is not defined",
     "output_type": "error",
     "traceback": [
      "\u001b[0;31m---------------------------------------------------------------------------\u001b[0m",
      "\u001b[0;31mNameError\u001b[0m                                 Traceback (most recent call last)",
      "\u001b[0;32m<ipython-input-21-8572376adf49>\u001b[0m in \u001b[0;36m<module>\u001b[0;34m()\u001b[0m\n\u001b[1;32m      5\u001b[0m \u001b[0;34m\u001b[0m\u001b[0m\n\u001b[1;32m      6\u001b[0m \u001b[0md\u001b[0m \u001b[0;34m=\u001b[0m \u001b[0ma\u001b[0m\u001b[0;34m+\u001b[0m\u001b[0mc\u001b[0m\u001b[0;34m\u001b[0m\u001b[0m\n\u001b[0;32m----> 7\u001b[0;31m \u001b[0mprint\u001b[0m \u001b[0;34m(\u001b[0m\u001b[0mg\u001b[0m\u001b[0;34m)\u001b[0m\u001b[0;34m\u001b[0m\u001b[0m\n\u001b[0m\u001b[1;32m      8\u001b[0m \u001b[0;34m\u001b[0m\u001b[0m\n\u001b[1;32m      9\u001b[0m \u001b[0mprint\u001b[0m\u001b[0;34m(\u001b[0m\u001b[0;34m\"sum d: \"\u001b[0m\u001b[0;34m,\u001b[0m \u001b[0mnp\u001b[0m\u001b[0;34m.\u001b[0m\u001b[0msum\u001b[0m\u001b[0;34m(\u001b[0m\u001b[0md\u001b[0m\u001b[0;34m)\u001b[0m\u001b[0;34m)\u001b[0m\u001b[0;34m\u001b[0m\u001b[0m\n",
      "\u001b[0;31mNameError\u001b[0m: name 'g' is not defined"
     ]
    }
   ],
   "source": [
    "#10. Try to add a and c. Now it should work. Assign the sum to varialbe \"d\". But why does it work now?\n",
    "'''\n",
    "L.S. Be careful here, it does not work, because 'g' is not defined. I assume you meant to use 'b'?\n",
    "'''\n",
    "\n",
    "d = a+c\n",
    "print (g)\n",
    "\n",
    "print(\"sum d: \", np.sum(d))\n",
    "\n",
    "# it works because the structure of the matrix is teh same "
   ]
  },
  {
   "cell_type": "markdown",
   "metadata": {},
   "source": []
  },
  {
   "cell_type": "code",
   "execution_count": 22,
   "metadata": {},
   "outputs": [
    {
     "name": "stdout",
     "output_type": "stream",
     "text": [
      "[[[0.36004569 0.7538033  0.78903145]\n",
      "  [0.23267561 0.7923389  0.45954295]\n",
      "  [0.77547012 0.09757248 0.17574062]\n",
      "  [0.91666415 0.86876526 0.95691166]\n",
      "  [0.28843998 0.73548612 0.12360941]]\n",
      "\n",
      " [[0.97974374 0.75398867 0.57243648]\n",
      "  [0.6544671  0.17052512 0.71006432]\n",
      "  [0.93316318 0.4329859  0.32332434]\n",
      "  [0.13531924 0.98972451 0.85136072]\n",
      "  [0.0650301  0.8453408  0.30393365]]]\n",
      "[[[1.36004569 1.7538033  1.78903145]\n",
      "  [1.23267561 1.7923389  1.45954295]\n",
      "  [1.77547012 1.09757248 1.17574062]\n",
      "  [1.91666415 1.86876526 1.95691166]\n",
      "  [1.28843998 1.73548612 1.12360941]]\n",
      "\n",
      " [[1.97974374 1.75398867 1.57243648]\n",
      "  [1.6544671  1.17052512 1.71006432]\n",
      "  [1.93316318 1.4329859  1.32332434]\n",
      "  [1.13531924 1.98972451 1.85136072]\n",
      "  [1.0650301  1.8453408  1.30393365]]]\n"
     ]
    }
   ],
   "source": [
    "#11. Print a and d. Notice the difference and relation of the two array in terms of the values? Explain.\n",
    "\n",
    "print (a)\n",
    "print (d)\n",
    "\n",
    "#at d all the values of a are a al exacte 1 value higher. "
   ]
  },
  {
   "cell_type": "code",
   "execution_count": 23,
   "metadata": {},
   "outputs": [
    {
     "name": "stdout",
     "output_type": "stream",
     "text": [
      "[[[0.36004569 0.7538033  0.78903145]\n",
      "  [0.23267561 0.7923389  0.45954295]\n",
      "  [0.77547012 0.09757248 0.17574062]\n",
      "  [0.91666415 0.86876526 0.95691166]\n",
      "  [0.28843998 0.73548612 0.12360941]]\n",
      "\n",
      " [[0.97974374 0.75398867 0.57243648]\n",
      "  [0.6544671  0.17052512 0.71006432]\n",
      "  [0.93316318 0.4329859  0.32332434]\n",
      "  [0.13531924 0.98972451 0.85136072]\n",
      "  [0.0650301  0.8453408  0.30393365]]]\n",
      "[[[1. 1. 1.]\n",
      "  [1. 1. 1.]\n",
      "  [1. 1. 1.]\n",
      "  [1. 1. 1.]\n",
      "  [1. 1. 1.]]\n",
      "\n",
      " [[1. 1. 1.]\n",
      "  [1. 1. 1.]\n",
      "  [1. 1. 1.]\n",
      "  [1. 1. 1.]\n",
      "  [1. 1. 1.]]]\n",
      "[[[0.36004569 0.7538033  0.78903145]\n",
      "  [0.23267561 0.7923389  0.45954295]\n",
      "  [0.77547012 0.09757248 0.17574062]\n",
      "  [0.91666415 0.86876526 0.95691166]\n",
      "  [0.28843998 0.73548612 0.12360941]]\n",
      "\n",
      " [[0.97974374 0.75398867 0.57243648]\n",
      "  [0.6544671  0.17052512 0.71006432]\n",
      "  [0.93316318 0.4329859  0.32332434]\n",
      "  [0.13531924 0.98972451 0.85136072]\n",
      "  [0.0650301  0.8453408  0.30393365]]]\n"
     ]
    }
   ],
   "source": [
    "#12. Multiply a and c. Assign the result to e.\n",
    "\n",
    "e = a*c\n",
    "print (a)\n",
    "print (c)\n",
    "print (e)"
   ]
  },
  {
   "cell_type": "code",
   "execution_count": 24,
   "metadata": {},
   "outputs": [],
   "source": [
    "#13. Does e equal to a? Why or why not?\n",
    "# yes is equal, because 1 *x = x \n"
   ]
  },
  {
   "cell_type": "code",
   "execution_count": 25,
   "metadata": {},
   "outputs": [
    {
     "name": "stdout",
     "output_type": "stream",
     "text": [
      "d_max:  1.5682501864230212\n",
      "d_min:  1.0650300967898856\n",
      "d_mean:  1.5682501864230212\n"
     ]
    }
   ],
   "source": [
    "#14. Identify the max, min, and mean values in d. Assign those values to variables \"d_max\", \"d_min\", and \"d_mean\"\n",
    "\n",
    "'''\n",
    "L.S. Looks good!\n",
    "'''\n",
    "\n",
    "d_max = (np.mean(d))\n",
    "d_min = (np.min(d))\n",
    "d_mean = (np.mean(d))\n",
    "\n",
    "print(\"d_max: \", d_max)\n",
    "print(\"d_min: \", d_min)\n",
    "print(\"d_mean: \", d_mean)"
   ]
  },
  {
   "cell_type": "code",
   "execution_count": 26,
   "metadata": {},
   "outputs": [
    {
     "name": "stdout",
     "output_type": "stream",
     "text": [
      "[[[0.36004569 0.7538033  0.78903145 0.23267561 0.7923389 ]\n",
      "  [0.45954295 0.77547012 0.09757248 0.17574062 0.91666415]\n",
      "  [0.86876526 0.95691166 0.28843998 0.73548612 0.12360941]]\n",
      "\n",
      " [[0.97974374 0.75398867 0.57243648 0.6544671  0.17052512]\n",
      "  [0.71006432 0.93316318 0.4329859  0.32332434 0.13531924]\n",
      "  [0.98972451 0.85136072 0.0650301  0.8453408  0.30393365]]]\n",
      "[[[1.36004569 1.7538033  1.78903145]\n",
      "  [1.23267561 1.7923389  1.45954295]\n",
      "  [1.77547012 1.09757248 1.17574062]\n",
      "  [1.91666415 1.86876526 1.95691166]\n",
      "  [1.28843998 1.73548612 1.12360941]]\n",
      "\n",
      " [[1.97974374 1.75398867 1.57243648]\n",
      "  [1.6544671  1.17052512 1.71006432]\n",
      "  [1.93316318 1.4329859  1.32332434]\n",
      "  [1.13531924 1.98972451 1.85136072]\n",
      "  [1.0650301  1.8453408  1.30393365]]]\n"
     ]
    }
   ],
   "source": [
    "#15. Now we want to label the values in d. First create an empty array \"f\" with the same shape (i.e. 2x3x5) as d using `np.empty`.\n",
    "\n",
    "f = np.empty((2,3,5))\n",
    "print(f)\n",
    "print (d)"
   ]
  },
  {
   "cell_type": "code",
   "execution_count": 27,
   "metadata": {},
   "outputs": [
    {
     "data": {
      "text/plain": [
       "\"\\n#16. Populate the values in f. For each value in d, if it's larger than d_min but smaller than d_mean, assign 25 to the corresponding value in f.\\nIf a value in d is larger than d_mean but smaller than d_max, assign 75 to the corresponding value in f.\\nIf a value equals to d_mean, assign 50 to the corresponding value in f.\\nAssign 0 to the corresponding value(s) in f for d_min in d.\\nAssign 100 to the corresponding value(s) in f for d_max in d.\\nIn the end, f should have only the following values: 0, 25, 50, 75, and 100.\\nNote: you don't have to use Numpy in this question.\\n\""
      ]
     },
     "execution_count": 27,
     "metadata": {},
     "output_type": "execute_result"
    }
   ],
   "source": [
    "\"\"\"\n",
    "#16. Populate the values in f. For each value in d, if it's larger than d_min but smaller than d_mean, assign 25 to the corresponding value in f.\n",
    "If a value in d is larger than d_mean but smaller than d_max, assign 75 to the corresponding value in f.\n",
    "If a value equals to d_mean, assign 50 to the corresponding value in f.\n",
    "Assign 0 to the corresponding value(s) in f for d_min in d.\n",
    "Assign 100 to the corresponding value(s) in f for d_max in d.\n",
    "In the end, f should have only the following values: 0, 25, 50, 75, and 100.\n",
    "Note: you don't have to use Numpy in this question.\n",
    "\"\"\"\n",
    "# d_min < d[i] < d_mean --> f[d] = 25 \n",
    "# d_mean < d[i]  --> f[d] = 75 \n",
    "\n"
   ]
  },
  {
   "cell_type": "code",
   "execution_count": 28,
   "metadata": {},
   "outputs": [
    {
     "data": {
      "text/plain": [
       "'\\n#18. Bonus question: instead of using numbers (i.e. 0, 25, 50, 75, and 100), how to use string values \\n(\"A\", \"B\", \"C\", \"D\", and \"E\") to label the array elements? You are expecting the result to be:\\narray([[[ \\'D\\',  \\'D\\',  \\'D\\',  \\'B\\',  \\'D\\'],\\n        [ \\'D\\',  \\'D\\',  \\'B\\',  \\'B\\',  \\'B\\'],\\n        [ \\'D\\',  \\'B\\',  \\'D\\',  \\'D\\',  \\'D\\']],\\n\\n       [[ \\'B\\',  \\'B\\',  \\'B\\',  \\'B\\',  \\'E\\'],\\n        [ \\'D\\',  \\'D\\',  \\'D\\',  \\'D\\',  \\'D\\'],\\n        [ \\'B\\',  \\'D\\',   \\'A\\',  \\'D\\', \\'D\\']]])\\nAgain, you don\\'t need Numpy in this question.\\n'"
      ]
     },
     "execution_count": 28,
     "metadata": {},
     "output_type": "execute_result"
    }
   ],
   "source": [
    "\n",
    "\"\"\"\n",
    "#17. Print d and f. Do you have your expected f?\n",
    "For instance, if your d is:\n",
    "array([[[1.85836099, 1.67064465, 1.62576044, 1.40243961, 1.88454931],\n",
    "        [1.75354326, 1.69403643, 1.36729252, 1.61415071, 1.12104981],\n",
    "        [1.72201435, 1.1862918 , 1.87078449, 1.7726778 , 1.88180042]],\n",
    "\n",
    "       [[1.44747908, 1.31673383, 1.02000951, 1.52218947, 1.97066381],\n",
    "        [1.79129243, 1.74983003, 1.96028037, 1.85166831, 1.65450881],\n",
    "        [1.18068344, 1.9587381 , 1.00656599, 1.93402165, 1.73514584]]])\n",
    "\n",
    "Your f should be:\n",
    "array([[[ 75.,  75.,  75.,  25.,  75.],\n",
    "        [ 75.,  75.,  25.,  25.,  25.],\n",
    "        [ 75.,  25.,  75.,  75.,  75.]],\n",
    "\n",
    "       [[ 25.,  25.,  25.,  25., 100.],\n",
    "        [ 75.,  75.,  75.,  75.,  75.],\n",
    "        [ 25.,  75.,   0.,  75.,  75.]]])\n",
    "\"\"\"\n",
    "\n",
    "\n",
    "\"\"\"\n",
    "#18. Bonus question: instead of using numbers (i.e. 0, 25, 50, 75, and 100), how to use string values \n",
    "(\"A\", \"B\", \"C\", \"D\", and \"E\") to label the array elements? You are expecting the result to be:\n",
    "array([[[ 'D',  'D',  'D',  'B',  'D'],\n",
    "        [ 'D',  'D',  'B',  'B',  'B'],\n",
    "        [ 'D',  'B',  'D',  'D',  'D']],\n",
    "\n",
    "       [[ 'B',  'B',  'B',  'B',  'E'],\n",
    "        [ 'D',  'D',  'D',  'D',  'D'],\n",
    "        [ 'B',  'D',   'A',  'D', 'D']]])\n",
    "Again, you don't need Numpy in this question.\n",
    "\"\"\"\n"
   ]
  },
  {
   "cell_type": "code",
   "execution_count": null,
   "metadata": {},
   "outputs": [],
   "source": []
  },
  {
   "cell_type": "code",
   "execution_count": null,
   "metadata": {},
   "outputs": [],
   "source": []
  },
  {
   "cell_type": "code",
   "execution_count": null,
   "metadata": {},
   "outputs": [],
   "source": []
  }
 ],
 "metadata": {
  "kernelspec": {
   "display_name": "Python 3",
   "language": "python",
   "name": "python3"
  }
 },
 "nbformat": 4,
 "nbformat_minor": 2
}
